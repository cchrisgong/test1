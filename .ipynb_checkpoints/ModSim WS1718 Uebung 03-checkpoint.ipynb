{
 "cells": [
  {
   "cell_type": "markdown",
   "metadata": {},
   "source": [
    "## Simulation und Modellierung WS 17/18 Uebung 03 : \n",
    "### Abgabe zum 04.11.2016"
   ]
  },
  {
   "cell_type": "markdown",
   "metadata": {},
   "source": [
    "### <u>Aufgabe 1</u> Erste Schritte mit Git"
   ]
  },
  {
   "cell_type": "markdown",
   "metadata": {},
   "source": [
    "Ziel dieser Aufgabe ist, die Lösung dieses kompletten Aufgabenblattes bei einem Git-Filehost (github) online zu stellen. An der hochgeladenen Version sollen Sie dann noch mindestens eine Änderung vornehmen.\n",
    "\n",
    "Nun der Reihenfolge nach: \n",
    "* Erstellen Sie einen Account bei Github mit einem `username`\n",
    "\n",
    "  https://github.com/\n",
    " \n",
    "  Erstellen Sie dort per Mausklick ein neues Repository, z.B. `my_repo`. (unter `new repository`)\n",
    "\n",
    "* Installieren Sie git auf Ihrem Arbeitsrechner:\n",
    "\n",
    "  #### Linux:\n",
    "  \n",
    "  `yum install git`\n",
    "  \n",
    "  `apt-get install git`\n",
    "  \n",
    "  `zypper in git`\n",
    "\n",
    "  #### Mac:\n",
    "  \n",
    "  `brew install git`\n",
    "  \n",
    "  https://git-scm.com/download/mac\n",
    "  \n",
    "  #### Windows:\n",
    "  \n",
    "  http://git-for-windows.github.io//\n",
    "\n",
    "  Setzen Sie dann eventuell Namen und Adresse.\n",
    "  \n",
    "  `git config --global user.name \"Your Name\"`\n",
    "  \n",
    "  `git config --global user.email you@example.com`\n",
    "\n",
    "\n",
    "* Initialisieren Sie git in einem neuen Ordner. Fügen Sie `my_repo.git` als origin hinzu. Speichern Sie dieses notebook im neuen Ordner. Führen Sie `git add .`, `git commit -m \"  \"` und `git push origin master` aus. Das alles geht im Terminal folgendermaßen:\n",
    "\n",
    "  ```bash\n",
    "      mkdir neuer_ordner\n",
    "      cd neuer_ordner\n",
    "      git init\n",
    "      git remote add origin https://username@bitbucket.org/username/my_repo.git\n",
    "      cp /path/to/notebook/my_notebook.ipynb my_notebook.ipynb\n",
    "      git add .\n",
    "      git commit -m \"Dieses notebook ist die Hausaufgabe Blatt 8, zunaechst unausgefuellt.\"\n",
    "      git push origin master  \n",
    "  ```\n",
    "  \n",
    "  Sehen Sie nach, ob Ihr notebook online ist.\n",
    "\n",
    "* Spielen Sie mit `git status`, `git log`, `git branch -av` .. herum und klicken Sie im Webfilehost herum, bis Sie sich ein wenig auskennen. Schreiben Sie Fragen für die Übung auf.\n",
    "\n",
    "* Nehmen Sie nun lokal auf Ihrem Rechner Änderungen am notebook vor, zum Beispiel indem Sie die Hausaufgaben lösen. Ändern Sie dies wie oben online: `git add .`, `git commit -m \"  \"`, `git push origin master`. Achten Sie auf sinnvolle commit-Kommentare.\n",
    "  \n",
    "  ```bash\n",
    "      git add .\n",
    "      git commit -m \"Aufg. 2 geloest, weitere Beispiele durchgerechnet.\"\n",
    "      git push origin master  \n",
    "  ```\n",
    "\n",
    "Senden Sie den https-Repository-Pfad an  cgong(at)uni-potsdam.de ."
   ]
  },
  {
   "cell_type": "markdown",
   "metadata": {},
   "source": [
    "### <u>Aufgabe 2</u> Darstellbarkeit und Vergleiche von Gleitkommazahlen"
   ]
  },
  {
   "cell_type": "markdown",
   "metadata": {},
   "source": [
    "Wieviele Zahlen $x$ mit $3\\le x < 4$ sind als `float64` Gleitkommazahlen darstellbar?"
   ]
  },
  {
   "cell_type": "code",
   "execution_count": 86,
   "metadata": {
    "collapsed": false
   },
   "outputs": [],
   "source": [
    "def float_to_binary(num):\n",
    "    exponent=0\n",
    "    shifted_num=num\n",
    "    while shifted_num != int(shifted_num):        \n",
    "        shifted_num*=2\n",
    "        exponent+=1\n",
    "    if exponent==0:\n",
    "        return '{0:0b}'.format(int(shifted_num))\n",
    "    binary='{0:0{1}b}'.format(int(shifted_num),exponent+1)\n",
    "    integer_part=binary[:-exponent]\n",
    "    fractional_part=binary[-exponent:].rstrip('0')\n",
    "    return '{0}.{1}'.format(integer_part,fractional_part)\n",
    "\n",
    "def floathex_to_binary(floathex):\n",
    "    num = float.fromhex(floathex)\n",
    "    return float_to_binary(num)"
   ]
  },
  {
   "cell_type": "code",
   "execution_count": 94,
   "metadata": {
    "collapsed": false
   },
   "outputs": [
    {
     "name": "stdout",
     "output_type": "stream",
     "text": [
      "4.0 100\n",
      "3.5 11.1\n",
      "3.25 11.01\n",
      "3.125 11.001\n",
      "3.0625 11.0001\n",
      "3.03125 11.00001\n",
      "3.015625 11.000001\n",
      "3.0078125 11.0000001\n",
      "3.00390625 11.00000001\n",
      "3.001953125 11.000000001\n",
      "3.0009765625 11.0000000001\n",
      "3.00048828125 11.00000000001\n",
      "3.000244140625 11.000000000001\n",
      "3.0001220703125 11.0000000000001\n",
      "3.00006103515625 11.00000000000001\n",
      "3.000030517578125 11.000000000000001\n",
      "3.0000152587890625 11.0000000000000001\n",
      "3.0000076293945312 11.00000000000000001\n",
      "3.0000038146972656 11.000000000000000001\n",
      "3.000001907348633 11.0000000000000000001\n",
      "3.0000009536743164 11.00000000000000000001\n",
      "3.000000476837158 11.000000000000000000001\n",
      "3.000000238418579 11.0000000000000000000001\n",
      "3.0000001192092896 11.00000000000000000000001\n",
      "3.0000000596046448 11.000000000000000000000001\n",
      "3.0000000298023224 11.0000000000000000000000001\n",
      "3.000000014901161 11.00000000000000000000000001\n",
      "3.0000000074505806 11.000000000000000000000000001\n",
      "3.0000000037252903 11.0000000000000000000000000001\n",
      "3.000000001862645 11.00000000000000000000000000001\n",
      "3.0000000009313226 11.000000000000000000000000000001\n",
      "3.0000000004656613 11.0000000000000000000000000000001\n",
      "3.0000000002328306 11.00000000000000000000000000000001\n",
      "3.0000000001164153 11.000000000000000000000000000000001\n",
      "3.0000000000582077 11.0000000000000000000000000000000001\n",
      "3.000000000029104 11.00000000000000000000000000000000001\n",
      "3.000000000014552 11.000000000000000000000000000000000001\n",
      "3.000000000007276 11.0000000000000000000000000000000000001\n",
      "3.000000000003638 11.00000000000000000000000000000000000001\n",
      "3.000000000001819 11.000000000000000000000000000000000000001\n",
      "3.0000000000009095 11.0000000000000000000000000000000000000001\n",
      "3.0000000000004547 11.00000000000000000000000000000000000000001\n",
      "3.0000000000002274 11.000000000000000000000000000000000000000001\n",
      "3.0000000000001137 11.0000000000000000000000000000000000000000001\n",
      "3.000000000000057 11.00000000000000000000000000000000000000000001\n",
      "3.0000000000000284 11.000000000000000000000000000000000000000000001\n",
      "3.000000000000014 11.0000000000000000000000000000000000000000000001\n",
      "3.000000000000007 11.00000000000000000000000000000000000000000000001\n",
      "3.0000000000000036 11.000000000000000000000000000000000000000000000001\n",
      "3.0000000000000018 11.0000000000000000000000000000000000000000000000001\n",
      "3.000000000000001 11.00000000000000000000000000000000000000000000000001\n",
      "3.0000000000000004 11.000000000000000000000000000000000000000000000000001\n",
      "3.0 11\n",
      "In diesem Bereich sind  2251799813685248.0 (bzw. 2^51) Zahlen darstellbar.\n"
     ]
    }
   ],
   "source": [
    "start = 3.\n",
    "target = start\n",
    "add = 1\n",
    "quotient = 1.\n",
    "\n",
    "while 1:\n",
    "    # Addiere zu target 2/2^x\n",
    "    target += add/quotient\n",
    "    print (target, floathex_to_binary(float.hex(target)))\n",
    "    # Wenn target sich vom Startwert ist target + 2/2^x als float64 darstellbar\n",
    "    if target != start:\n",
    "        target = start\n",
    "        quotient *= 2\n",
    "    # Wenn target sich nicht vom Startwert unterscheidet ist target + 2/2^x NICHT als float64 darstellbar.\n",
    "    else:\n",
    "        quotient /= 2\n",
    "        print(\"In diesem Bereich sind \", 1/(add/quotient), \"(bzw. 2^51) Zahlen darstellbar.\")\n",
    "        break"
   ]
  },
  {
   "cell_type": "markdown",
   "metadata": {
    "collapsed": true
   },
   "source": [
    "Welchen Wahrheitswert hat der Ausdruck `(1.3-1.0) == 0.3` und warum?"
   ]
  },
  {
   "cell_type": "code",
   "execution_count": 103,
   "metadata": {
    "collapsed": false
   },
   "outputs": [
    {
     "name": "stdout",
     "output_type": "stream",
     "text": [
      "number 0.29999999999999998890\n"
     ]
    }
   ],
   "source": [
    "print(\"number %.20f\" %.3)"
   ]
  },
  {
   "cell_type": "code",
   "execution_count": null,
   "metadata": {
    "collapsed": true
   },
   "outputs": [],
   "source": [
    "print(\"number %.10f\" %.3)\n",
    "print(\"number %.1f\" %.3)\n",
    "print(\"number %.4f\" %.3)\n",
    "print(\"number %.16f\" %.3)\n",
    "print(\"number %.17f\" %.3)"
   ]
  },
  {
   "cell_type": "code",
   "execution_count": 110,
   "metadata": {
    "collapsed": false
   },
   "outputs": [
    {
     "name": "stdout",
     "output_type": "stream",
     "text": [
      "number 1.0000000000000000000000000000000000000000000000000000000000000000000000000000000000000000000000000000\n",
      "number 0.0000000000000001999999999999999958195573\n",
      "number 0.0000000000000003999999999999999916391147\n",
      "number 1.00000000000000022204\n",
      "number 1.30000000000000004441\n",
      "number 0.29999999999999998890\n"
     ]
    }
   ],
   "source": [
    "print(\"number %.100f\" %1.)\n",
    "print(\"number %.40f\" %2e-16)\n",
    "print(\"number %.40f\" %(2e-16+2e-16))\n",
    "print(\"number %.20f\" %(1.+2e-16))"
   ]
  },
  {
   "cell_type": "code",
   "execution_count": 118,
   "metadata": {
    "collapsed": false
   },
   "outputs": [
    {
     "name": "stdout",
     "output_type": "stream",
     "text": [
      "number 1.30000000000000004441\n",
      "number 0.29999999999999998890\n",
      "number 1.59999999999999986677\n"
     ]
    }
   ],
   "source": [
    "print(\"number %.20f\" %(1.+.3))\n",
    "print(\"number %.20f\" %(.3))\n",
    "print(\"number %.20f\" %(1.4+.2))"
   ]
  },
  {
   "cell_type": "code",
   "execution_count": 91,
   "metadata": {
    "collapsed": false
   },
   "outputs": [
    {
     "name": "stdout",
     "output_type": "stream",
     "text": [
      "number 0.0000000000000000000000000000000000000000000000000000000000000000000000000000000000000000000000000000002\n",
      "number 0.00000000000000000000000000000000000000000000000000000000000000000000000000000000000000000000000000000000000000000000000000000000000000000000000000000000000000000000000000000000000000000000000000000000000000000000000000000000000000000000000000000000000000000000000000000000000000000000000000000000000000000000002\n",
      "2e-323\n",
      "0.0\n",
      "6.666666666666667e-104\n",
      "5e-324\n",
      "-1e-323\n"
     ]
    }
   ],
   "source": [
    "print(\"number %.103f\" %.2e-102)\n",
    "print(\"number %.311f\" %.2e-310)\n",
    "print(.2e-322)\n",
    "print(.2e-323)\n",
    "print(.2e-102/3.)\n",
    "print(.2e-322/3.)\n",
    "print(.2e-322-.3e-322)"
   ]
  },
  {
   "cell_type": "code",
   "execution_count": 129,
   "metadata": {
    "collapsed": false
   },
   "outputs": [
    {
     "name": "stdout",
     "output_type": "stream",
     "text": [
      "40100000000000.0\n",
      "41200000000000.0\n",
      "3.30423999983e+27\n",
      "1.1000000751\n"
     ]
    }
   ],
   "source": [
    "# distance from Alpha centauri to the sun\n",
    "print (40208000000000)\n",
    "# Berlin to Potsdam 35,1km\n"
   ]
  },
  {
   "cell_type": "code",
   "execution_count": null,
   "metadata": {
    "collapsed": true
   },
   "outputs": [],
   "source": []
  }
 ],
 "metadata": {
  "anaconda-cloud": {},
  "kernelspec": {
   "display_name": "Python [default]",
   "language": "python",
   "name": "python3"
  },
  "language_info": {
   "codemirror_mode": {
    "name": "ipython",
    "version": 3
   },
   "file_extension": ".py",
   "mimetype": "text/x-python",
   "name": "python",
   "nbconvert_exporter": "python",
   "pygments_lexer": "ipython3",
   "version": "3.5.2"
  }
 },
 "nbformat": 4,
 "nbformat_minor": 0
}
